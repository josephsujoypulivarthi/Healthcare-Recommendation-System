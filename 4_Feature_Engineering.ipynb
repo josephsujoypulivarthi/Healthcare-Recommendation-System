{
 "cells": [
  {
   "cell_type": "code",
   "execution_count": 2,
   "id": "5bb0bc41-271c-48de-a4ae-d72c949ca7ff",
   "metadata": {},
   "outputs": [
    {
     "name": "stdout",
     "output_type": "stream",
     "text": [
      "Original features: 13\n",
      "After polynomial features: 91\n",
      "        age  sex   cp  trestbps      chol  fbs  restecg   thalach  exang  \\\n",
      "0  0.948726  1.0  1.0  0.757525 -0.264900  1.0      2.0  0.017197    0.0   \n",
      "1  1.392002  1.0  4.0  1.611220  0.760415  0.0      2.0 -1.821905    1.0   \n",
      "2  1.392002  1.0  4.0 -0.665300 -0.342283  0.0      2.0 -0.902354    1.0   \n",
      "3 -1.932564  1.0  3.0 -0.096170  0.063974  0.0      0.0  1.637359    0.0   \n",
      "4 -1.489288  0.0  2.0 -0.096170 -0.825922  0.0      2.0  0.980537    0.0   \n",
      "\n",
      "    oldpeak  ...  exang oldpeak  exang slope  exang ca  exang thal  \\\n",
      "0  1.087338  ...       0.000000          0.0 -0.000000         0.0   \n",
      "1  0.397182  ...       0.397182          2.0  2.504881         3.0   \n",
      "2  1.346147  ...       1.346147          2.0  1.432877         7.0   \n",
      "3  2.122573  ...       0.000000          0.0 -0.000000         0.0   \n",
      "4  0.310912  ...       0.000000          0.0 -0.000000         0.0   \n",
      "\n",
      "   oldpeak slope  oldpeak ca  oldpeak thal  slope ca  slope thal    ca thal  \n",
      "0       3.262014   -0.773240      6.524028 -2.133394        18.0  -4.266788  \n",
      "1       0.794363    0.994893      1.191545  5.009761         6.0   7.514642  \n",
      "2       2.692293    1.928862      9.423027  2.865753        14.0  10.030137  \n",
      "3       6.367718   -1.509428      6.367718 -2.133394         9.0  -2.133394  \n",
      "4       0.310912   -0.221099      0.932736 -0.711131         3.0  -2.133394  \n",
      "\n",
      "[5 rows x 91 columns]\n"
     ]
    }
   ],
   "source": [
    "import pandas as pd\n",
    "import numpy as np\n",
    "from sklearn.preprocessing import PolynomialFeatures\n",
    "\n",
    "# Load the processed data\n",
    "data = pd.read_csv('data/processed_heart_data.csv')\n",
    "\n",
    "# Split features and target\n",
    "X = data.drop('target', axis=1)\n",
    "y = data['target']\n",
    "\n",
    "# Create interaction terms\n",
    "poly = PolynomialFeatures(degree=2, interaction_only=True, include_bias=False)\n",
    "X_poly = poly.fit_transform(X)\n",
    "\n",
    "# Convert to dataframe with feature names\n",
    "feature_names = poly.get_feature_names_out(X.columns)\n",
    "X_poly_df = pd.DataFrame(X_poly, columns=feature_names)\n",
    "\n",
    "# Print the first few rows of the new features\n",
    "print(f\"Original features: {X.shape[1]}\")\n",
    "print(f\"After polynomial features: {X_poly_df.shape[1]}\")\n",
    "print(X_poly_df.head())\n",
    "\n",
    "# Add some custom features\n",
    "data['age_chol_ratio'] = data['age'] / (data['chol'] + 1)  # Add 1 to avoid division by zero\n",
    "data['trestbps_thalach_ratio'] = data['trestbps'] / (data['thalach'] + 1)\n",
    "\n",
    "# Save enhanced dataset\n",
    "data.to_csv('data/enhanced_heart_data.csv', index=False)\n",
    "\n",
    "# Create new train/test split with enhanced features\n",
    "from sklearn.model_selection import train_test_split\n",
    "\n",
    "X_enhanced = data.drop('target', axis=1)\n",
    "y = data['target']\n",
    "\n",
    "X_train_enh, X_test_enh, y_train_enh, y_test_enh = train_test_split(\n",
    "    X_enhanced, y, test_size=0.2, random_state=42)\n",
    "\n",
    "# Save the enhanced splits\n",
    "import pickle\n",
    "with open('data/enhanced_train_test_split.pkl', 'wb') as f:\n",
    "    pickle.dump((X_train_enh, X_test_enh, y_train_enh, y_test_enh), f)"
   ]
  }
 ],
 "metadata": {
  "kernelspec": {
   "display_name": "Python [conda env:base] *",
   "language": "python",
   "name": "conda-base-py"
  },
  "language_info": {
   "codemirror_mode": {
    "name": "ipython",
    "version": 3
   },
   "file_extension": ".py",
   "mimetype": "text/x-python",
   "name": "python",
   "nbconvert_exporter": "python",
   "pygments_lexer": "ipython3",
   "version": "3.12.7"
  }
 },
 "nbformat": 4,
 "nbformat_minor": 5
}
